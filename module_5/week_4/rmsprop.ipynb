{
  "nbformat": 4,
  "nbformat_minor": 0,
  "metadata": {
    "colab": {
      "provenance": [],
      "toc_visible": true
    },
    "kernelspec": {
      "name": "python3",
      "display_name": "Python 3"
    },
    "language_info": {
      "name": "python"
    }
  },
  "cells": [
    {
      "cell_type": "markdown",
      "source": [
        "# **RMSProp**"
      ],
      "metadata": {
        "id": "9EIEPvR3R1lM"
      }
    },
    {
      "cell_type": "markdown",
      "source": [
        "## Problem"
      ],
      "metadata": {
        "id": "PDZxOtCZt5VU"
      }
    },
    {
      "cell_type": "markdown",
      "source": [
        "$$f(w_1, w_2) = 0.1w_1^2 + 2w_2^2 \\;\\;\\;\\;\\;\\;\\;(1)$$"
      ],
      "metadata": {
        "id": "Z7esFCIXuNXS"
      }
    },
    {
      "cell_type": "code",
      "source": [
        "import numpy as np"
      ],
      "metadata": {
        "id": "_IAVg99F9N0y"
      },
      "execution_count": 1,
      "outputs": []
    },
    {
      "cell_type": "markdown",
      "source": [
        "### RMSprop"
      ],
      "metadata": {
        "id": "HXAY82X82mDx"
      }
    },
    {
      "cell_type": "code",
      "source": [
        "def df_w(w):\n",
        "    \"\"\"\n",
        "    Thực hiện tính gradient của dw1 và dw2\n",
        "    Arguments:\n",
        "    W -- np.array [w1, w2]\n",
        "    Returns:\n",
        "    dW -- np.array [dw1, dw2], array chứa giá trị đạo hàm theo w1 và w2\n",
        "    \"\"\"\n",
        "    dW = np.array([0.2 * w[0], 4 * w[1]], dtype=np.float32)\n",
        "    return dW"
      ],
      "metadata": {
        "id": "uai1hzbWuNaK"
      },
      "execution_count": 2,
      "outputs": []
    },
    {
      "cell_type": "code",
      "source": [
        "def RMSProp(W, dW, lr, S, gamma):\n",
        "    \"\"\"\n",
        "    Thực hiện thuật tóan RMSProp để update w1 và w2\n",
        "    Arguments:\n",
        "    W -- np.array: [w1, w2]\n",
        "    dW -- np.array: [dw1, dw2], array chứa giá trị đạo hàm theo w1 và w2\n",
        "    lr -- float: learning rate\n",
        "    S -- np.array: [s1, s2] Exponentially weighted averages bình phương gradients\n",
        "    gamma -- float: hệ số long-range average\n",
        "    Returns:\n",
        "    W -- np.array: [w1, w2] w1 và w2 sau khi đã update\n",
        "    S -- np.array: [s1, s2] Exponentially weighted averages bình phương gradients sau khi đã cập nhật\n",
        "    \"\"\"\n",
        "    epsilon = 1e-6\n",
        "    S = gamma * S + (1 - gamma) * dW ** 2\n",
        "    W = W - lr * dW / np.sqrt(S + epsilon)\n",
        "    return W, S"
      ],
      "metadata": {
        "id": "ws1QcU-o3NPi"
      },
      "execution_count": 3,
      "outputs": []
    },
    {
      "cell_type": "code",
      "source": [
        "def train_p1(optimizer, lr, epochs):\n",
        "    \"\"\"\n",
        "    Thực hiện tìm điểm minimum của function (1) dựa vào thuật toán\n",
        "    được truyền vào từ optimizer\n",
        "    Arguments:\n",
        "    optimize : function thực hiện thuật toán optimization cụ thể\n",
        "    lr -- float: learning rate\n",
        "    epochs -- int: số lượng lần (epoch) lặp để tìm điểm minimum\n",
        "    Returns:\n",
        "    results -- list: list các cặp điểm [w1, w2] sau mỗi epoch (mỗi lần cập nhật)\n",
        "    \"\"\"\n",
        "    # initial\n",
        "    W = np.array([-5, -2], dtype=np.float32)\n",
        "    S = np.array([0, 0], dtype=np.float32)\n",
        "    results = [W]\n",
        "    for epoch in range(epochs):\n",
        "        dW = df_w(W)\n",
        "        W, S = optimizer(W, dW, lr, S, 0.9)\n",
        "        results.append(W)\n",
        "    return results"
      ],
      "metadata": {
        "id": "QA_czueo4bz2"
      },
      "execution_count": 4,
      "outputs": []
    },
    {
      "cell_type": "code",
      "source": [
        "train_p1(RMSProp, lr=0.3, epochs=30)"
      ],
      "metadata": {
        "id": "eGVlk8pi4kM5",
        "colab": {
          "base_uri": "https://localhost:8080/"
        },
        "outputId": "6b7b1840-7d16-4a82-c941-53a88eb1bba1"
      },
      "execution_count": 5,
      "outputs": [
        {
          "output_type": "execute_result",
          "data": {
            "text/plain": [
              "[array([-5., -2.], dtype=float32),\n",
              " array([-4.0513215, -1.0513167], dtype=float32),\n",
              " array([-3.4351976, -0.5915234], dtype=float32),\n",
              " array([-2.958937  , -0.32943937], dtype=float32),\n",
              " array([-2.5654628 , -0.17756478], dtype=float32),\n",
              " array([-2.2292054 , -0.09163253], dtype=float32),\n",
              " array([-1.9362674 , -0.04494496], dtype=float32),\n",
              " array([-1.6781766 , -0.02081422], dtype=float32),\n",
              " array([-1.4493496 , -0.00903558], dtype=float32),\n",
              " array([-1.2458818, -0.0036459], dtype=float32),\n",
              " array([-1.0649028 , -0.00135351], dtype=float32),\n",
              " array([-9.0420204e-01, -4.5644370e-04], dtype=float32),\n",
              " array([-7.6199627e-01, -1.3756263e-04], dtype=float32),\n",
              " array([-6.3677830e-01, -3.6259997e-05], dtype=float32),\n",
              " array([-5.2721506e-01, -8.1133439e-06], dtype=float32),\n",
              " array([-4.3207833e-01, -1.4747270e-06], dtype=float32),\n",
              " array([-3.5019833e-01, -2.0278264e-07], dtype=float32),\n",
              " array([-2.8043449e-01, -1.8422952e-08], dtype=float32),\n",
              " array([-2.2165969e-01, -7.6773077e-10], dtype=float32),\n",
              " array([-1.7275539e-01,  7.8046458e-12], dtype=float32),\n",
              " array([-1.3261503e-01, -5.0580547e-13], dtype=float32),\n",
              " array([-1.0015369e-01,  6.1913907e-14], dtype=float32),\n",
              " array([-7.4321695e-02, -1.1337692e-14], dtype=float32),\n",
              " array([-5.4120064e-02,  2.8017504e-15], dtype=float32),\n",
              " array([-3.8615864e-02, -8.8136870e-16], dtype=float32),\n",
              " array([-2.6955765e-02,  3.3993232e-16], dtype=float32),\n",
              " array([-1.8376529e-02, -1.5658712e-16], dtype=float32),\n",
              " array([-1.2211584e-02,  8.4502495e-17], dtype=float32),\n",
              " array([-7.893300e-03, -5.263959e-17], dtype=float32),\n",
              " array([-4.9510896e-03,  3.7412208e-17], dtype=float32),\n",
              " array([-3.005762e-03, -3.005177e-17], dtype=float32)]"
            ]
          },
          "metadata": {},
          "execution_count": 5
        }
      ]
    }
  ]
}
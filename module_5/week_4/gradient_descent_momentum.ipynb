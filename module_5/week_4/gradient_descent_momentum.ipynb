{
  "nbformat": 4,
  "nbformat_minor": 0,
  "metadata": {
    "colab": {
      "provenance": [],
      "toc_visible": true
    },
    "kernelspec": {
      "name": "python3",
      "display_name": "Python 3"
    },
    "language_info": {
      "name": "python"
    }
  },
  "cells": [
    {
      "cell_type": "markdown",
      "source": [
        "# **Gradient Descent + Momentum**"
      ],
      "metadata": {
        "id": "rB_4n0JPAzCK"
      }
    },
    {
      "cell_type": "markdown",
      "source": [
        "## Problem"
      ],
      "metadata": {
        "id": "PDZxOtCZt5VU"
      }
    },
    {
      "cell_type": "markdown",
      "source": [
        "$$f(w_1, w_2) = 0.1w_1^2 + 2w_2^2 \\;\\;\\;\\;\\;\\;\\;(1)$$"
      ],
      "metadata": {
        "id": "Z7esFCIXuNXS"
      }
    },
    {
      "cell_type": "code",
      "source": [
        "import numpy as np"
      ],
      "metadata": {
        "id": "_IAVg99F9N0y"
      },
      "execution_count": 1,
      "outputs": []
    },
    {
      "cell_type": "markdown",
      "source": [
        "### Momentum"
      ],
      "metadata": {
        "id": "lBLBMN8zE6Bj"
      }
    },
    {
      "cell_type": "code",
      "source": [
        "def df_w(w):\n",
        "    \"\"\"\n",
        "    Thực hiện tính gradient của dw1 và dw2\n",
        "    Arguments:\n",
        "    W -- np.array [w1, w2]\n",
        "    Returns:\n",
        "    dW -- np.array [dw1, dw2], array chứa giá trị đạo hàm theo w1 và w2\n",
        "    \"\"\"\n",
        "    dW = np.array([0.2*w[0], 4*w[1]], dtype=np.float32)\n",
        "    return dW"
      ],
      "metadata": {
        "id": "uai1hzbWuNaK"
      },
      "execution_count": 2,
      "outputs": []
    },
    {
      "cell_type": "code",
      "source": [
        "def sgd_momentum(W, dW, lr, V, beta):\n",
        "    \"\"\"\n",
        "    Thực hiện thuật tóan Gradient Descent + Momentum để update w1 và w2\n",
        "    Arguments:\n",
        "    W -- np.array: [w1, w2]\n",
        "    dW -- np.array: [dw1, dw2], array chứa giá trị đạo hàm theo w1 và w2\n",
        "    lr -- float: learning rate\n",
        "    V -- np.array: [v1, v2] Exponentially weighted averages gradients\n",
        "    beta -- float: hệ số long-range average\n",
        "    Returns:\n",
        "    W -- np.array: [w1, w2] w1 và w2 sau khi đã update\n",
        "    V -- np.array: [v1, v2] Exponentially weighted averages gradients sau khi đã cập nhật\n",
        "    \"\"\"\n",
        "\n",
        "    V = beta * V + (1 - beta) * dW\n",
        "    W = W - lr * V\n",
        "    return W, V"
      ],
      "metadata": {
        "id": "faIqYpr4E57r"
      },
      "execution_count": 3,
      "outputs": []
    },
    {
      "cell_type": "code",
      "source": [
        "def train_p1(optimizer, lr, epochs):\n",
        "    \"\"\"\n",
        "    Thực hiện tìm điểm minimum của function (1) dựa vào thuật toán\n",
        "    được truyền vào từ optimizer\n",
        "    Arguments:\n",
        "    optimize : function thực hiện thuật toán optimization cụ thể\n",
        "    lr -- float: learning rate\n",
        "    epochs -- int: số lượng lần (epoch) lặp để tìm điểm minimum\n",
        "    Returns:\n",
        "    results -- list: list các cặp điểm [w1, w2] sau mỗi epoch (mỗi lần cập nhật)\n",
        "    \"\"\"\n",
        "    # initial\n",
        "    W = np.array([-5, -2], dtype=np.float32)\n",
        "    V = np.array([0, 0], dtype=np.float32)\n",
        "    beta = 0.5\n",
        "    results = [W]\n",
        "    for epoch in range(epochs):\n",
        "        dW = df_w(W)\n",
        "        W, V = optimizer(W, dW, lr, V, beta)\n",
        "        results.append(W)\n",
        "    return results"
      ],
      "metadata": {
        "id": "J1L9O5rNGPZ1"
      },
      "execution_count": 6,
      "outputs": []
    },
    {
      "cell_type": "code",
      "source": [
        "train_p1(sgd_momentum, lr=0.6, epochs=30)"
      ],
      "metadata": {
        "colab": {
          "base_uri": "https://localhost:8080/"
        },
        "id": "z0AxyO3mGJB8",
        "outputId": "7345855d-2efd-40b3-a73e-17e08b8742e8"
      },
      "execution_count": 7,
      "outputs": [
        {
          "output_type": "execute_result",
          "data": {
            "text/plain": [
              "[array([-5., -2.], dtype=float32),\n",
              " array([-4.7      ,  0.4000001], dtype=float32),\n",
              " array([-4.2679996,  1.12     ], dtype=float32),\n",
              " array([-3.7959197 ,  0.13599992], dtype=float32),\n",
              " array([-3.3321245, -0.5192   ], dtype=float32),\n",
              " array([-2.9002995 , -0.22375995], dtype=float32),\n",
              " array([-2.510369  ,  0.19247207], dtype=float32),\n",
              " array([-2.1647816 ,  0.16962159], dtype=float32),\n",
              " array([-1.862101  , -0.04534957], dtype=float32),\n",
              " array([-1.5990345 , -0.09841566], dtype=float32),\n",
              " array([-1.3715593 , -0.00684991], dtype=float32),\n",
              " array([-1.175528  ,  0.04715286], dtype=float32),\n",
              " array([-1.0069808 ,  0.01757081], dtype=float32),\n",
              " array([-0.8622883 , -0.01830519], dtype=float32),\n",
              " array([-0.7382048 , -0.01427696], dtype=float32),\n",
              " array([-0.63187075,  0.0048695 ], dtype=float32),\n",
              " array([-0.54079145,  0.00859933], dtype=float32),\n",
              " array([-4.6280432e-01,  1.4504697e-04], dtype=float32),\n",
              " array([-0.3960425 , -0.00425615], dtype=float32),\n",
              " array([-0.33889902, -0.00134937], dtype=float32),\n",
              " array([-0.28999335,  0.00172327], dtype=float32),\n",
              " array([-0.2481409 ,  0.00119166], dtype=float32),\n",
              " array([-0.21232623, -0.00050413], dtype=float32),\n",
              " array([-0.18167931, -0.00074707], dtype=float32),\n",
              " array([-1.5545510e-01,  2.7945207e-05], dtype=float32),\n",
              " array([-0.13301568,  0.00038192], dtype=float32),\n",
              " array([-1.1381503e-01,  1.0060327e-04], dtype=float32),\n",
              " array([-0.09738581, -0.00016078], dtype=float32),\n",
              " array([-8.3328046e-02, -9.8535267e-05], dtype=float32),\n",
              " array([-7.129948e-02,  5.082882e-05], dtype=float32),\n",
              " array([-6.1007228e-02,  6.4516280e-05], dtype=float32)]"
            ]
          },
          "metadata": {},
          "execution_count": 7
        }
      ]
    }
  ]
}
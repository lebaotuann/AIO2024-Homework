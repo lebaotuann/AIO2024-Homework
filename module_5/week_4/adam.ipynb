{
  "nbformat": 4,
  "nbformat_minor": 0,
  "metadata": {
    "colab": {
      "provenance": [],
      "toc_visible": true
    },
    "kernelspec": {
      "name": "python3",
      "display_name": "Python 3"
    },
    "language_info": {
      "name": "python"
    }
  },
  "cells": [
    {
      "cell_type": "markdown",
      "source": [
        "# **Adam**"
      ],
      "metadata": {
        "id": "_Y1zS2W7xtR5"
      }
    },
    {
      "cell_type": "markdown",
      "source": [
        "## Problem"
      ],
      "metadata": {
        "id": "PDZxOtCZt5VU"
      }
    },
    {
      "cell_type": "markdown",
      "source": [
        "$$f(w_1, w_2) = 0.1w_1^2 + 2w_2^2 \\;\\;\\;\\;\\;\\;\\;(1)$$"
      ],
      "metadata": {
        "id": "Z7esFCIXuNXS"
      }
    },
    {
      "cell_type": "code",
      "source": [
        "import numpy as np"
      ],
      "metadata": {
        "id": "_IAVg99F9N0y"
      },
      "execution_count": 1,
      "outputs": []
    },
    {
      "cell_type": "markdown",
      "source": [
        "### Adam"
      ],
      "metadata": {
        "id": "77XQZxMK2l4x"
      }
    },
    {
      "cell_type": "code",
      "source": [
        "def df_w(w):\n",
        "    \"\"\"\n",
        "    Thực hiện tính gradient của dw1 và dw2\n",
        "    Arguments:\n",
        "    W -- np.array [w1, w2]\n",
        "    Returns:\n",
        "    dW -- np.array [dw1, dw2], array chứa giá trị đạo hàm theo w1 và w2\n",
        "    \"\"\"\n",
        "    dW = np.array([0.2*w[0], 4*w[1]], dtype=np.float32)\n",
        "    return dW"
      ],
      "metadata": {
        "id": "uai1hzbWuNaK"
      },
      "execution_count": 2,
      "outputs": []
    },
    {
      "cell_type": "code",
      "source": [
        "def Adam(W, dW, lr, V, S, beta1, beta2, t):\n",
        "    \"\"\"\n",
        "    Thực hiện thuật tóan Adam để update w1 và w2\n",
        "    Arguments:\n",
        "    W -- np.array: [w1, w2]\n",
        "    dW -- np.array: [dw1, dw2], array chứa giá trị đạo hàm theo w1 và w2\n",
        "    lr -- float: learning rate\n",
        "    V -- np.array: [v1, v2] Exponentially weighted averages gradients\n",
        "    S -- np.array: [s1, s2] Exponentially weighted averages bình phương gradients\n",
        "    beta1 -- float: hệ số long-range average cho V\n",
        "    beta2 -- float: hệ số long-range average cho S\n",
        "    t -- int: lần thứ t update (bắt đầu bằng 1)\n",
        "    Returns:\n",
        "    W -- np.array: [w1, w2] w1 và w2 sau khi đã update\n",
        "    V -- np.array: [v1, v2] Exponentially weighted averages gradients sau khi đã cập nhật\n",
        "    S -- np.array: [s1, s2] Exponentially weighted averages bình phương gradients sau khi đã cập nhật\n",
        "    \"\"\"\n",
        "    epsilon = 1e-6\n",
        "    V = beta1 * V + (1 - beta1) * dW\n",
        "    S = beta2 * S + (1 - beta2) * dW ** 2\n",
        "    V_hat = V / (1 - beta1 ** t)\n",
        "    S_hat = S / (1 - beta2 ** t)\n",
        "    W = W - lr * V_hat / (np.sqrt(S_hat) + epsilon)\n",
        "    return W, V, S"
      ],
      "metadata": {
        "id": "d9HnD57lC1X1"
      },
      "execution_count": 3,
      "outputs": []
    },
    {
      "cell_type": "code",
      "source": [
        "def train_p1(optimizer, lr, epochs):\n",
        "    \"\"\"\n",
        "    Thực hiện tìm điểm minimum của function (1) dựa vào thuật toán\n",
        "    được truyền vào từ optimizer\n",
        "    Arguments:\n",
        "    optimize : function thực hiện thuật toán optimization cụ thể\n",
        "    lr -- float: learning rate\n",
        "    epochs -- int: số lượng lần (epoch) lặp để tìm điểm minimum\n",
        "    Returns:\n",
        "    results -- list: list các cặp điểm [w1, w2] sau mỗi epoch (mỗi lần cập nhật)\n",
        "    \"\"\"\n",
        "    # initial\n",
        "    W = np.array([-5, -2], dtype=np.float32)\n",
        "    V = np.array([0, 0], dtype=np.float32)\n",
        "    S = np.array([0, 0], dtype=np.float32)\n",
        "    results = [W]\n",
        "    for epoch in range(epochs):\n",
        "        dW = df_w(W)\n",
        "        W, V, S = optimizer(W, dW, lr, V, S, beta1=0.9, beta2=0.999, t=epoch+1)\n",
        "        results.append(W)\n",
        "    return results"
      ],
      "metadata": {
        "id": "DSux416mEjYy"
      },
      "execution_count": 4,
      "outputs": []
    },
    {
      "cell_type": "code",
      "source": [
        "train_p1(Adam, lr=0.2, epochs=30)"
      ],
      "metadata": {
        "id": "uwBvH3HeEjUL",
        "colab": {
          "base_uri": "https://localhost:8080/"
        },
        "outputId": "c3780ad0-ea17-4e48-91ee-673c953ebd91"
      },
      "execution_count": 5,
      "outputs": [
        {
          "output_type": "execute_result",
          "data": {
            "text/plain": [
              "[array([-5., -2.], dtype=float32),\n",
              " array([-4.8      , -1.8000001], dtype=float32),\n",
              " array([-4.600255 , -1.6008246], dtype=float32),\n",
              " array([-4.4009485, -1.4031727], dtype=float32),\n",
              " array([-4.2022777, -1.2078784], dtype=float32),\n",
              " array([-4.0044503, -1.0159276], dtype=float32),\n",
              " array([-3.8076863, -0.8284732], dtype=float32),\n",
              " array([-3.6122174 , -0.64684176], dtype=float32),\n",
              " array([-3.4182863 , -0.47252786], dtype=float32),\n",
              " array([-3.2261474 , -0.30716956], dtype=float32),\n",
              " array([-3.036066  , -0.15249878], dtype=float32),\n",
              " array([-2.8483171, -0.0102635], dtype=float32),\n",
              " array([-2.6631856 ,  0.11787525], dtype=float32),\n",
              " array([-2.4809642 ,  0.23046133], dtype=float32),\n",
              " array([-2.301953 ,  0.3263584], dtype=float32),\n",
              " array([-2.1264577 ,  0.40484163], dtype=float32),\n",
              " array([-1.9547876,  0.4656493], dtype=float32),\n",
              " array([-1.787254 ,  0.5089877], dtype=float32),\n",
              " array([-1.6241676 ,  0.53549415], dtype=float32),\n",
              " array([-1.4658359,  0.5461712], dtype=float32),\n",
              " array([-1.312561 ,  0.5423079], dtype=float32),\n",
              " array([-1.1646357,  0.5254019], dtype=float32),\n",
              " array([-1.0223408 ,  0.49709046], dtype=float32),\n",
              " array([-0.8859421,  0.459095 ], dtype=float32),\n",
              " array([-0.75568664,  0.41317773], dtype=float32),\n",
              " array([-0.6317997 ,  0.36110884], dtype=float32),\n",
              " array([-0.5144814 ,  0.30464044], dtype=float32),\n",
              " array([-0.40390402,  0.24548408], dtype=float32),\n",
              " array([-0.300209 ,  0.1852892], dtype=float32),\n",
              " array([-0.20350485,  0.1256208 ], dtype=float32),\n",
              " array([-0.11386517,  0.06793538], dtype=float32)]"
            ]
          },
          "metadata": {},
          "execution_count": 5
        }
      ]
    }
  ]
}
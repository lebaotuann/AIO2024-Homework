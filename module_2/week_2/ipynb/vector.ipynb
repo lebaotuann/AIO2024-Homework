{
  "nbformat": 4,
  "nbformat_minor": 0,
  "metadata": {
    "colab": {
      "provenance": [],
      "collapsed_sections": [
        "3PauaPXI1NNP",
        "2RlHJqFABHmM",
        "-ggSnMpiSgjB"
      ]
    },
    "kernelspec": {
      "name": "python3",
      "display_name": "Python 3"
    },
    "language_info": {
      "name": "python"
    }
  },
  "cells": [
    {
      "cell_type": "markdown",
      "source": [
        "# **Vector**"
      ],
      "metadata": {
        "id": "qMv3Zn0U0UtK"
      }
    },
    {
      "cell_type": "markdown",
      "source": [
        "## **Matrix inverse**\n",
        "- **Matrix A:** $\\mathbf{A} = \\begin{bmatrix} a & b \\\\ c & d \\end{bmatrix}, \\mathbf{A} \\in \\mathbb{R}^{2 \\times 2}$\n",
        "- **Determinant of A:** $\\mathbf{A} \\in \\mathbb{R}^{2 \\times 2}: det(\\mathbf{A}) = ad - bc$\n",
        "- **If** $ \\det(\\mathbf{A}) \\neq 0$, $\\mathbf{A}$ is invertible.\n",
        "- **Inverse Matrix**: $ \\mathbf{A}^{-1} = \\frac{1}{det(\\mathbf{A})} \\begin{bmatrix} d & -b \\\\ -c & a \\end{bmatrix} $"
      ],
      "metadata": {
        "id": "3PauaPXI1NNP"
      }
    },
    {
      "cell_type": "markdown",
      "source": [
        "Given $\\mathbf{A} = \\begin{bmatrix} -2 & 6 \\\\ 8 & -4 \\end{bmatrix}$. Find $\\mathbf{A}^{-1}$.\n",
        "\n",
        "---\n",
        "$\\mathbf{A} = \\begin{bmatrix} -2 & 6 \\\\ 8 & -4 \\end{bmatrix}, \\mathbf{A} \\in \\mathbb{R}^{2 \\times 2}$\n",
        "\n",
        "Determinant of A: $ \\mathbf{A} \\in \\mathbb{R}^{2 \\times 2}: det(\\mathbf{A}) = ad - bc = (-2) \\times (-4) - 6 \\times 8 = -40$\n",
        "\n",
        "With $ \\det(\\mathbf{A}) = -40 \\neq 0$, $\\mathbf{A}$ is invertible.\n",
        "\n",
        "Inverse Matrix:\n",
        "$$ \\mathbf{A}^{-1} = \\frac{1}{-40} \\begin{bmatrix} -4 & -6 \\\\ -8 & -2 \\end{bmatrix} = \\begin{bmatrix} 0.1 & 0.15 \\\\ 0.2 & 0.05 \\end{bmatrix}$$\n",
        "\n",
        "\n",
        "\n"
      ],
      "metadata": {
        "id": "kNX_3xdT9VkM"
      }
    },
    {
      "cell_type": "markdown",
      "source": [
        "## **Eigenvector and eigenvalue**\n",
        "- $\\mathbf{A} \\in \\mathbb{R}^{n \\times n}, \\mathbf{I}(indetity\\ matrix) \\in \\mathbb{R}^{n \\times n}, \\mathbf{v} \\in \\mathbb{R}^{n}$\n",
        "- Eigenvalue $(λ)$: $det(\\mathbf{A} - λ\\mathbf{I}) = 0$\n",
        "- Eigenvector $(\\mathbf{v})$: $\\mathbf{A} \\mathbf{v} = λ\\mathbf{v} \\Leftrightarrow (\\mathbf{A} - λ\\mathbf{I})\\mathbf{v} = 0$\n",
        "- Normalize vector: $\\frac{\\mathbf{v}}{ \\lVert \\mathbf{v} \\rVert}, v_i = \\frac{v_i}{\\sqrt{\\sum_{1}^n v_i^2}} $"
      ],
      "metadata": {
        "id": "2RlHJqFABHmM"
      }
    },
    {
      "cell_type": "markdown",
      "source": [
        "Given $\\mathbf{A} = \\begin{bmatrix} 0.9 & 0.2 \\\\ 0.1 & 0.8 \\end{bmatrix}$. Find the normalized Eigenvector $(\\mathbf{v})$ and the eigenvalue λ of $\\mathbf{A}$.\n",
        "\n",
        "---\n",
        "### **1. Find the eigenvalues**\n",
        "Compute the eigenvalue $λ$ of matrix $\\mathbf{A}$, we need to solve the characteristic equation:\n",
        "\n",
        "$det(\\mathbf{A} - λ\\mathbf{I}) = 0$\n",
        "\n",
        "Where $λ$ represents the eigenvalues, and $\\mathbf{I}$ is the identity matrix. This expands to:\n",
        "\n",
        "$$\n",
        "det(\\begin{bmatrix} 0.9 - λ & 0.2 \\\\ 0.1 & 0.8 - λ \\end{bmatrix}) = 0\n",
        "$$\n",
        "\n",
        "The determinant of this matrix is given by:\n",
        "$(0.9 - λ)(0.8 - λ) - 0.2 × 0.1 = 0$\n",
        "\n",
        "Expanding this, we get the characteristic polynomial:\n",
        "$λ^{2} - (0.9 + 0.8)λ + (0.9 × 0.8 - 0.2 × 0.1) = 0$\n",
        "\n",
        "Using the quadratic formula:\n",
        "$λ_1 = 1, λ_2 = 0.7$\n",
        "\n",
        "So, the eigenvalues of the matrix $\\mathbf{A}$ are: $λ_1 = 1, λ_2 = 0.7$\n",
        "\n",
        "### **2. Find the eigenvectors for each eigenvalues**\n",
        "For $λ_1 = 1$\n",
        "\n",
        "Solve $(\\mathbf{A} - λ_1\\mathbf{I})\\mathbf{v_1} = 0$:\n",
        "\n",
        "$\\begin{bmatrix} 0.9 - λ_1 & 0.2 \\\\ 0.1 & 0.8 - λ_1 \\end{bmatrix} \\mathbf{v_1} = \\begin{bmatrix} 0 \\\\ 0 \\end{bmatrix}$\n",
        "\n",
        "This gives:\n",
        "$\\begin{bmatrix} -0.1 & 0.2 \\\\ 0.1 & -0.2 \\end{bmatrix} \\mathbf{v_1} = \\begin{bmatrix} 0 \\\\ 0 \\end{bmatrix}$\n",
        "\n",
        "Solving this system of equations, we find that $\\mathbf{v_1} = \\begin{bmatrix} 2 \\\\ 1 \\end{bmatrix}$ is an eigenvector.\n",
        "\n",
        "\n",
        "For $λ_1 = 0.7$\n",
        "\n",
        "Solve $(\\mathbf{A} - λ_1\\mathbf{I})\\mathbf{v_2} = 0$:\n",
        "\n",
        "$\\begin{bmatrix} 0.9 - λ_1 & 0.2 \\\\ 0.1 & 0.8 - λ_1 \\end{bmatrix} \\mathbf{v_2} = \\begin{bmatrix} 0 \\\\ 0 \\end{bmatrix}$\n",
        "\n",
        "This gives:\n",
        "$\\begin{bmatrix} 0.2 & 0.2 \\\\ 0.1 & 0.1 \\end{bmatrix} \\mathbf{v_2} = \\begin{bmatrix} 0 \\\\ 0 \\end{bmatrix}$\n",
        "\n",
        "Solving this system of equations, we find that $\\mathbf{v_2} = \\begin{bmatrix} -1 \\\\ 1 \\end{bmatrix}$ is an eigenvector.\n",
        "\n",
        "\n",
        "### **3. Results**\n",
        "- Eigenvalues: $λ_1 = 1, λ_2 = 0.7$\n",
        "- Eigenvectors: $\\mathbf{v_1} = \\begin{bmatrix} 2 \\\\ 1 \\end{bmatrix}, \\mathbf{v_2} = \\begin{bmatrix} -1 \\\\ 1 \\end{bmatrix}$"
      ],
      "metadata": {
        "id": "iS6JAJpVBOWY"
      }
    },
    {
      "cell_type": "markdown",
      "source": [
        "## **Cosine Similarity**\n",
        "\n",
        "- Data (vector $\\mathbf{x},\\ \\mathbf{y}$): $\\mathbf{x} = \\{x_1, ..., x_N\\}, \\ \\mathbf{y} = \\{y_1, ..., y_N\\}$\n",
        "- Cosine Similarity: $cs(\\mathbf{x}, \\mathbf{y}) = \\frac{ \\mathbf{x} \\cdot \\mathbf{y}}{ \\lVert \\mathbf{x} \\rVert \\lVert \\mathbf{y} \\rVert} = \\frac{\\sum_{1}^n x_i y_i}{\\sqrt{\\sum_{1}^n x_i^2} \\sqrt{\\sum_{1}^n y_i^2}} $"
      ],
      "metadata": {
        "id": "-ggSnMpiSgjB"
      }
    },
    {
      "cell_type": "markdown",
      "source": [
        "Given $\\mathbf{x} = \\begin{bmatrix} 1 \\\\ 2 \\\\ 3 \\\\ 4 \\end{bmatrix},\\ \\mathbf{y} = \\begin{bmatrix} 1 \\\\ 0 \\\\ 3 \\\\ 0 \\end{bmatrix} $. Find Cosine similarity $cs(\\mathbf{x}, \\mathbf{y})$.\n",
        "\n",
        "\n",
        "---\n",
        "**Step 1:** Dot product of $\\mathbf{x}$  and $\\mathbf{y}$:\n",
        "\n",
        "$\\mathbf{x} ⋅ \\mathbf{y} = 1*1 + 2*0 + 3*3 + 4*0 = 10$\n",
        "\n",
        "\n",
        "**Step 2:** Length of $\\mathbf{x}$  and $\\mathbf{y}$:\n",
        "\n",
        "$\\lVert \\mathbf{x} \\rVert = \\sqrt{1^2 + 2^2 + 3^2 + 4^2} = \\sqrt{30}$\n",
        "\n",
        "$\\lVert \\mathbf{y} \\rVert = \\sqrt{1^2 + 0^2 + 3^2 + 0^2} = \\sqrt{10}$\n",
        "\n",
        "\n",
        "**Step 3:** Cosine similarity:\n",
        "\n",
        "$cs(\\mathbf{x}, \\mathbf{y}) = \\frac{ \\mathbf{x} \\cdot \\mathbf{y}}{ \\lVert \\mathbf{x} \\rVert \\lVert \\mathbf{y} \\rVert} = \\frac{10}{\\sqrt{30} \\sqrt{10}} = 0.5774$\n"
      ],
      "metadata": {
        "id": "oNuHOjd7VDzQ"
      }
    }
  ]
}
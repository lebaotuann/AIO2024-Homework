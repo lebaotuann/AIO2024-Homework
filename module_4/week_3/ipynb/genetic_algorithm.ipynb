{
  "nbformat": 4,
  "nbformat_minor": 0,
  "metadata": {
    "colab": {
      "provenance": [],
      "gpuType": "L4"
    },
    "kernelspec": {
      "name": "python3",
      "display_name": "Python 3"
    },
    "language_info": {
      "name": "python"
    },
    "accelerator": "GPU"
  },
  "cells": [
    {
      "cell_type": "markdown",
      "source": [
        "# **Genetic Algorithm and Its Applications**"
      ],
      "metadata": {
        "id": "zXvh06XU8CmD"
      }
    },
    {
      "cell_type": "code",
      "execution_count": 105,
      "metadata": {
        "id": "VtDPEiKN7wQI"
      },
      "outputs": [],
      "source": [
        "# Question 1: A"
      ]
    },
    {
      "cell_type": "markdown",
      "source": [
        "## Assignment 1"
      ],
      "metadata": {
        "id": "g5QSxLGp9poN"
      }
    },
    {
      "cell_type": "code",
      "source": [
        "import numpy as np\n",
        "import matplotlib.pyplot as plt\n",
        "import random\n",
        "\n",
        "random.seed(0)  # please do not remove this line\n",
        "%matplotlib inline"
      ],
      "metadata": {
        "id": "1wHz8Ttk9xvC"
      },
      "execution_count": 106,
      "outputs": []
    },
    {
      "cell_type": "code",
      "source": [
        "def load_data_from_file(filename=\"advertising.csv\"):\n",
        "    data = np.genfromtxt(filename, dtype=None, delimiter=\",\", skip_header=1)\n",
        "    features_X = data[:, :3]\n",
        "    sales_Y = data[:, 3]\n",
        "    n = len(features_X)\n",
        "\n",
        "    # features_X = np.concatenate((np.ones((n, 1)), features_X), axis=1)\n",
        "    features_X = np.c_[np.ones((n, 1)), features_X]\n",
        "\n",
        "    return features_X, sales_Y"
      ],
      "metadata": {
        "id": "rbC8fpDr-szG"
      },
      "execution_count": 107,
      "outputs": []
    },
    {
      "cell_type": "code",
      "source": [
        "# Question 2: A\n",
        "# Question 3: B\n",
        "features_X, sales_Y = load_data_from_file()\n",
        "print(features_X[:5, :])\n",
        "print(sales_Y.shape)"
      ],
      "metadata": {
        "colab": {
          "base_uri": "https://localhost:8080/"
        },
        "id": "96DquxfJBRXY",
        "outputId": "4006b39e-f859-4dd7-b487-1dfaf570edbb"
      },
      "execution_count": 108,
      "outputs": [
        {
          "output_type": "stream",
          "name": "stdout",
          "text": [
            "[[  1.  230.1  37.8  69.2]\n",
            " [  1.   44.5  39.3  45.1]\n",
            " [  1.   17.2  45.9  69.3]\n",
            " [  1.  151.5  41.3  58.5]\n",
            " [  1.  180.8  10.8  58.4]]\n",
            "(200,)\n"
          ]
        }
      ]
    },
    {
      "cell_type": "markdown",
      "source": [
        "## Assignment 2"
      ],
      "metadata": {
        "id": "4vR8xy3d9wcj"
      }
    },
    {
      "cell_type": "code",
      "source": [
        "def generate_random_value(bound=10):\n",
        "    return (random.random() - 0.5)*bound"
      ],
      "metadata": {
        "id": "zUN5jcASazvu"
      },
      "execution_count": 127,
      "outputs": []
    },
    {
      "cell_type": "code",
      "source": [
        "def create_individual(n=4, bound=10):\n",
        "    # individual = [random.uniform(-bound/2, bound/2) for _ in range(n)]\n",
        "    individual = [generate_random_value() for _ in range(n)]\n",
        "    return individual"
      ],
      "metadata": {
        "id": "g34g--M-Dv5U"
      },
      "execution_count": 128,
      "outputs": []
    },
    {
      "cell_type": "code",
      "source": [
        "individual = create_individual()\n",
        "print(individual)"
      ],
      "metadata": {
        "colab": {
          "base_uri": "https://localhost:8080/"
        },
        "id": "n5CWHg-4Fpm_",
        "outputId": "fdb462df-cf96-4c93-ab30-538588be3a67"
      },
      "execution_count": 133,
      "outputs": [
        {
          "output_type": "stream",
          "name": "stdout",
          "text": [
            "[-2.395076896080406, 3.0502782701302236, 0.4869930383558929, -4.8595829983598104]\n"
          ]
        }
      ]
    },
    {
      "cell_type": "markdown",
      "source": [
        "## Assignment 3"
      ],
      "metadata": {
        "id": "DNmrs0wqGgS1"
      }
    },
    {
      "cell_type": "code",
      "source": [
        "def compute_loss(features_x, sales_y, individual):\n",
        "    theta = np.array(individual)\n",
        "    y_hat = features_x.dot(theta)\n",
        "    loss = np.multiply((y_hat - sales_y), (y_hat - sales_y)).mean()\n",
        "    return loss\n",
        "\n",
        "def compute_fitness(features_X, sales_Y, individual):\n",
        "    loss = compute_loss(features_X, sales_Y, individual)\n",
        "    fitness = 1 / (1 + loss)\n",
        "    return fitness"
      ],
      "metadata": {
        "id": "mAppbrihGrX8"
      },
      "execution_count": 141,
      "outputs": []
    },
    {
      "cell_type": "code",
      "source": [
        "# Question 4: C\n",
        "features_X, _ = load_data_from_file()\n",
        "individual = [4.09, 4.82, 3.10, 4.02]\n",
        "fitness_score = compute_fitness(features_X, sales_Y, individual)\n",
        "print(fitness_score)"
      ],
      "metadata": {
        "colab": {
          "base_uri": "https://localhost:8080/"
        },
        "id": "9fb7CawfHJoj",
        "outputId": "ac4fbc6d-ba68-4de9-f91c-5056bd2f9869"
      },
      "execution_count": 142,
      "outputs": [
        {
          "output_type": "stream",
          "name": "stdout",
          "text": [
            "1.0185991537088997e-06\n"
          ]
        }
      ]
    },
    {
      "cell_type": "markdown",
      "source": [
        "## Assignment 4"
      ],
      "metadata": {
        "id": "j24dFMjcLmHr"
      }
    },
    {
      "cell_type": "code",
      "source": [
        "def crossover(individual1, individual2, crossover_rate=0.9):\n",
        "    individual1_new = individual1.copy()\n",
        "    individual2_new = individual2.copy()\n",
        "    for i in range(len(individual1)):\n",
        "        if random.random() < crossover_rate:\n",
        "            individual1_new[i], individual2_new[i] = individual2_new[i], individual1_new[i]\n",
        "    return individual1_new, individual2_new"
      ],
      "metadata": {
        "id": "l58UqYFxLp6I"
      },
      "execution_count": 143,
      "outputs": []
    },
    {
      "cell_type": "code",
      "source": [
        "# Qyestion 5: D\n",
        "individual1 = [4.09, 4.82, 3.10, 4.02]\n",
        "individual2 = [3.44, 2.57, -0.79, -2.41]\n",
        "individual1_new, individual2_new = crossover(individual1, individual2, 2.0)\n",
        "print(individual1_new)\n",
        "print(individual2_new)"
      ],
      "metadata": {
        "colab": {
          "base_uri": "https://localhost:8080/"
        },
        "id": "3konDxobNgEl",
        "outputId": "497b0645-c48b-4679-ebf7-6ae59a13ba18"
      },
      "execution_count": 144,
      "outputs": [
        {
          "output_type": "stream",
          "name": "stdout",
          "text": [
            "[3.44, 2.57, -0.79, -2.41]\n",
            "[4.09, 4.82, 3.1, 4.02]\n"
          ]
        }
      ]
    },
    {
      "cell_type": "markdown",
      "source": [
        "## Assignment 5"
      ],
      "metadata": {
        "id": "3J1d7faPOdmB"
      }
    },
    {
      "cell_type": "code",
      "source": [
        "def mutate(individual, mutation_rate=0.05):\n",
        "    individual_new = individual.copy()\n",
        "\n",
        "    for i in range(len(individual)):\n",
        "        if random.random() < mutation_rate:\n",
        "            individual_new[i] = generate_random_value()\n",
        "\n",
        "    return individual_new"
      ],
      "metadata": {
        "id": "sARv-G6OOs9t"
      },
      "execution_count": 146,
      "outputs": []
    },
    {
      "cell_type": "code",
      "source": [
        "# Question 6: A\n",
        "before_individual = [4.09, 4.82, 3.10, 4.02]\n",
        "after_individual = mutate(before_individual, mutation_rate=2.0)\n",
        "print(before_individual == after_individual)"
      ],
      "metadata": {
        "colab": {
          "base_uri": "https://localhost:8080/"
        },
        "id": "AkByF2jNPnFc",
        "outputId": "737b26d6-6c97-4ecd-dbc7-d71200488b38"
      },
      "execution_count": 147,
      "outputs": [
        {
          "output_type": "stream",
          "name": "stdout",
          "text": [
            "False\n"
          ]
        }
      ]
    },
    {
      "cell_type": "markdown",
      "source": [
        "## Assignment 6"
      ],
      "metadata": {
        "id": "B0Iz803SRSKn"
      }
    },
    {
      "cell_type": "code",
      "source": [
        "def initialize_population(m) :\n",
        "    population = [create_individual() for _ in range(m)]\n",
        "    return population"
      ],
      "metadata": {
        "id": "XNI-btdcRUpu"
      },
      "execution_count": 149,
      "outputs": []
    },
    {
      "cell_type": "markdown",
      "source": [
        "## Assignment 7"
      ],
      "metadata": {
        "id": "_h2Hc2TqSAyP"
      }
    },
    {
      "cell_type": "code",
      "source": [
        "def selection(sorted_old_population, m=100):\n",
        "    index1 = random.randint(0, m - 1)\n",
        "\n",
        "    while True:\n",
        "        index2 = random.randint(0, m - 1)\n",
        "        if index2 != index1:\n",
        "            break\n",
        "\n",
        "    if index2 > index1:\n",
        "        return sorted_old_population[index2]\n",
        "    else:\n",
        "        return sorted_old_population[index1]"
      ],
      "metadata": {
        "id": "re1GxGA_SD2K"
      },
      "execution_count": 151,
      "outputs": []
    },
    {
      "cell_type": "code",
      "source": [
        "population = initialize_population(m=10)\n",
        "individual_s = selection(population, m=10)\n",
        "print(individual_s)"
      ],
      "metadata": {
        "colab": {
          "base_uri": "https://localhost:8080/"
        },
        "id": "BUYIm82xcu-F",
        "outputId": "8878864e-6b7c-478c-86ee-4cfe5d5d2987"
      },
      "execution_count": 155,
      "outputs": [
        {
          "output_type": "stream",
          "name": "stdout",
          "text": [
            "[-2.5320573191375937, -4.780246916669277, 3.0646697354560293, -3.3115599496057833]\n"
          ]
        }
      ]
    },
    {
      "cell_type": "markdown",
      "source": [
        "## Assignment 8"
      ],
      "metadata": {
        "id": "LxehH8tmSvXE"
      }
    },
    {
      "cell_type": "code",
      "source": [
        "def create_new_population(features_x, sales_y, old_population, elitism=2, gen=1):\n",
        "    m = len(old_population)\n",
        "    sorted_population = sorted(old_population, key=lambda individual: compute_fitness(features_x, sales_y, individual))\n",
        "\n",
        "    if gen % 1 == 0:\n",
        "        print(\"Best loss: \", compute_loss(features_x, sales_y, sorted_population[m-1]), \"with chromosome: \", sorted_population[m-1])\n",
        "\n",
        "    new_population = []\n",
        "\n",
        "    while len(new_population) < m - elitism:\n",
        "        # Selection\n",
        "        individual1 = selection(sorted_population, m)\n",
        "        individual2 = selection(sorted_population, m)\n",
        "\n",
        "        # Crossover\n",
        "        child1, child2 = crossover(individual1, individual2)\n",
        "\n",
        "        # Mutation\n",
        "        child1 = mutate(child1)\n",
        "        child2 = mutate(child2)\n",
        "\n",
        "        new_population.append(child1)\n",
        "        new_population.append(child2)\n",
        "\n",
        "    # Elitism\n",
        "    # new_population.extend(sorted_population[m-elitism:])\n",
        "    for ind in sorted_population[m-elitism:]:\n",
        "        new_population.append(ind.copy())\n",
        "\n",
        "    return new_population, compute_loss(features_x, sales_y, sorted_population[m-1])\n"
      ],
      "metadata": {
        "id": "iG5TKdnqSx_k"
      },
      "execution_count": 156,
      "outputs": []
    },
    {
      "cell_type": "code",
      "source": [
        "# Quetsion 7: A\n",
        "features_X, sales_Y = load_data_from_file()\n",
        "individual1 = [4.09, 4.82, 3.10, 4.02]\n",
        "individual2 = [3.44, 2.57, -0.79, -2.41]\n",
        "old_population = [individual1, individual2]\n",
        "new_population, _ = create_new_population(features_X, sales_Y, old_population, elitism=2 , gen=1)\n"
      ],
      "metadata": {
        "colab": {
          "base_uri": "https://localhost:8080/"
        },
        "id": "8TdCm2jFT3i1",
        "outputId": "272f6e5f-0449-4435-963c-c906ab302381"
      },
      "execution_count": 158,
      "outputs": [
        {
          "output_type": "stream",
          "name": "stdout",
          "text": [
            "Best loss:  123415.051528805 with chromosome:  [3.44, 2.57, -0.79, -2.41]\n"
          ]
        }
      ]
    },
    {
      "cell_type": "markdown",
      "source": [
        "## Assignment 9"
      ],
      "metadata": {
        "id": "3Qdd_SxiYVXv"
      }
    },
    {
      "cell_type": "code",
      "source": [
        "def initialize_population ( m ) :\n",
        "    population = [create_individual() for _ in range(m)]\n",
        "    return population"
      ],
      "metadata": {
        "id": "YHrfYaMTaAxt"
      },
      "execution_count": 101,
      "outputs": []
    },
    {
      "cell_type": "code",
      "source": [
        "def run_ga():\n",
        "    n_generations = 100\n",
        "    m = 600\n",
        "    features_X, sales_Y = load_data_from_file()\n",
        "    population = initialize_population(m)\n",
        "    losses_list = []\n",
        "    for i in range(n_generations):\n",
        "        population, best_loss = create_new_population(features_X, sales_Y, population, elitism=2, gen=i)\n",
        "        losses_list.append(best_loss)\n",
        "\n",
        "    return losses_list"
      ],
      "metadata": {
        "id": "2VqT1C3OYZs0"
      },
      "execution_count": 159,
      "outputs": []
    },
    {
      "cell_type": "markdown",
      "source": [
        "## Assignment 10"
      ],
      "metadata": {
        "id": "XD67YfejZEDs"
      }
    },
    {
      "cell_type": "code",
      "source": [
        "def visualize_loss(losses_list):\n",
        "    plt.plot(losses_list, color=\"blue\")\n",
        "    plt.xlabel(\"Generations\")\n",
        "    plt.ylabel(\"losses\")\n",
        "    plt.show()"
      ],
      "metadata": {
        "id": "DHOT-HeqZDKZ"
      },
      "execution_count": 160,
      "outputs": []
    },
    {
      "cell_type": "code",
      "source": [
        "losses_list = run_ga()\n",
        "visualize_loss(losses_list)"
      ],
      "metadata": {
        "colab": {
          "base_uri": "https://localhost:8080/",
          "height": 1000
        },
        "id": "qNF2TtVEZnMr",
        "outputId": "0b27dc15-b363-4bc3-ac30-ba26ee1fe271"
      },
      "execution_count": 162,
      "outputs": [
        {
          "output_type": "stream",
          "name": "stdout",
          "text": [
            "Best loss:  886.6753130775364 with chromosome:  [-2.6399582372872086, 0.3187973807344602, -0.1244570675577561, -0.8852781983021174]\n",
            "Best loss:  886.6753130775364 with chromosome:  [-2.6399582372872086, 0.3187973807344602, -0.1244570675577561, -0.8852781983021174]\n",
            "Best loss:  886.6753130775364 with chromosome:  [-2.6399582372872086, 0.3187973807344602, -0.1244570675577561, -0.8852781983021174]\n",
            "Best loss:  417.6951842585085 with chromosome:  [0.2889830230762447, 0.21698579970799714, -0.9725882253833984, 0.2931529180896286]\n",
            "Best loss:  299.4557377398341 with chromosome:  [0.9432618304110829, 0.07788185898563893, -0.8601129401929553, 0.42054762863038997]\n",
            "Best loss:  268.7475733501769 with chromosome:  [2.6404128523324113, 0.07788185898563893, -0.8601129401929553, 0.42054762863038997]\n",
            "Best loss:  204.4476713317251 with chromosome:  [2.629057760183615, 0.13142466695703625, 0.5558803130875623, -0.3217671988407389]\n",
            "Best loss:  111.4406168459704 with chromosome:  [-2.963742301570992, 0.08415439091512655, -0.3887345197174086, 0.2607673923124332]\n",
            "Best loss:  111.4406168459704 with chromosome:  [-2.963742301570992, 0.08415439091512655, -0.3887345197174086, 0.2607673923124332]\n",
            "Best loss:  66.58043075176697 with chromosome:  [2.6809686580678846, 0.08415439091512655, -0.3887345197174086, 0.2607673923124332]\n",
            "Best loss:  66.58043075176697 with chromosome:  [2.6809686580678846, 0.08415439091512655, -0.3887345197174086, 0.2607673923124332]\n",
            "Best loss:  64.98496047960444 with chromosome:  [2.759164764495259, 0.03182141661356774, -0.1244570675577561, 0.12479962708104586]\n",
            "Best loss:  64.98496047960444 with chromosome:  [2.759164764495259, 0.03182141661356774, -0.1244570675577561, 0.12479962708104586]\n",
            "Best loss:  42.594227204523705 with chromosome:  [4.563818507155446, 0.03182141661356774, -0.1244570675577561, 0.2931529180896286]\n",
            "Best loss:  41.09856903387292 with chromosome:  [0.2889830230762447, 0.07897558651668746, -0.1244570675577561, 0.2607673923124332]\n",
            "Best loss:  41.09856903387292 with chromosome:  [0.2889830230762447, 0.07897558651668746, -0.1244570675577561, 0.2607673923124332]\n",
            "Best loss:  22.209196553983574 with chromosome:  [2.6809686580678846, 0.08415439091512655, -0.1244570675577561, 0.12479962708104586]\n",
            "Best loss:  22.209196553983574 with chromosome:  [2.6809686580678846, 0.08415439091512655, -0.1244570675577561, 0.12479962708104586]\n",
            "Best loss:  19.091846645407212 with chromosome:  [2.759164764495259, 0.07788185898563893, -0.1244570675577561, 0.12479962708104586]\n",
            "Best loss:  19.091846645407212 with chromosome:  [2.759164764495259, 0.07788185898563893, -0.1244570675577561, 0.12479962708104586]\n",
            "Best loss:  19.091846645407212 with chromosome:  [2.759164764495259, 0.07788185898563893, -0.1244570675577561, 0.12479962708104586]\n",
            "Best loss:  18.477131548410124 with chromosome:  [2.759164764495259, 0.07788185898563893, -0.11462305549136742, 0.12479962708104586]\n",
            "Best loss:  18.477131548410124 with chromosome:  [2.759164764495259, 0.07788185898563893, -0.11462305549136742, 0.12479962708104586]\n",
            "Best loss:  18.477131548410124 with chromosome:  [2.759164764495259, 0.07788185898563893, -0.11462305549136742, 0.12479962708104586]\n",
            "Best loss:  18.477131548410124 with chromosome:  [2.759164764495259, 0.07788185898563893, -0.11462305549136742, 0.12479962708104586]\n",
            "Best loss:  18.477131548410124 with chromosome:  [2.759164764495259, 0.07788185898563893, -0.11462305549136742, 0.12479962708104586]\n",
            "Best loss:  15.024770742015503 with chromosome:  [3.305323024893739, 0.03182141661356774, 0.1559601278931544, 0.12479962708104586]\n",
            "Best loss:  15.024770742015503 with chromosome:  [3.305323024893739, 0.03182141661356774, 0.1559601278931544, 0.12479962708104586]\n",
            "Best loss:  15.024770742015503 with chromosome:  [3.305323024893739, 0.03182141661356774, 0.1559601278931544, 0.12479962708104586]\n",
            "Best loss:  15.024770742015503 with chromosome:  [3.305323024893739, 0.03182141661356774, 0.1559601278931544, 0.12479962708104586]\n",
            "Best loss:  14.959817709939403 with chromosome:  [2.860838309218595, 0.03182141661356774, 0.1559601278931544, 0.12479962708104586]\n",
            "Best loss:  14.959817709939403 with chromosome:  [2.860838309218595, 0.03182141661356774, 0.1559601278931544, 0.12479962708104586]\n",
            "Best loss:  14.959817709939403 with chromosome:  [2.860838309218595, 0.03182141661356774, 0.1559601278931544, 0.12479962708104586]\n",
            "Best loss:  14.959817709939403 with chromosome:  [2.860838309218595, 0.03182141661356774, 0.1559601278931544, 0.12479962708104586]\n",
            "Best loss:  14.959817709939403 with chromosome:  [2.860838309218595, 0.03182141661356774, 0.1559601278931544, 0.12479962708104586]\n",
            "Best loss:  14.959817709939403 with chromosome:  [2.860838309218595, 0.03182141661356774, 0.1559601278931544, 0.12479962708104586]\n",
            "Best loss:  14.946449079289282 with chromosome:  [3.1042758932274808, 0.03182141661356774, 0.1559601278931544, 0.12479962708104586]\n",
            "Best loss:  14.940612301623577 with chromosome:  [2.9548035834075304, 0.03182141661356774, 0.1559601278931544, 0.12479962708104586]\n",
            "Best loss:  14.940612301623577 with chromosome:  [2.9548035834075304, 0.03182141661356774, 0.1559601278931544, 0.12479962708104586]\n",
            "Best loss:  14.940612301623577 with chromosome:  [2.9548035834075304, 0.03182141661356774, 0.1559601278931544, 0.12479962708104586]\n",
            "Best loss:  14.940612301623577 with chromosome:  [2.9548035834075304, 0.03182141661356774, 0.1559601278931544, 0.12479962708104586]\n",
            "Best loss:  14.940612301623577 with chromosome:  [2.9548035834075304, 0.03182141661356774, 0.1559601278931544, 0.12479962708104586]\n",
            "Best loss:  14.940612301623577 with chromosome:  [2.9548035834075304, 0.03182141661356774, 0.1559601278931544, 0.12479962708104586]\n",
            "Best loss:  14.940612301623577 with chromosome:  [2.9548035834075304, 0.03182141661356774, 0.1559601278931544, 0.12479962708104586]\n",
            "Best loss:  14.940612301623577 with chromosome:  [2.9548035834075304, 0.03182141661356774, 0.1559601278931544, 0.12479962708104586]\n",
            "Best loss:  12.595853167588901 with chromosome:  [2.9548035834075304, 0.03182141661356774, 0.1559601278931544, 0.06893212839051754]\n",
            "Best loss:  12.595853167588901 with chromosome:  [2.9548035834075304, 0.03182141661356774, 0.1559601278931544, 0.06893212839051754]\n",
            "Best loss:  12.595853167588901 with chromosome:  [2.9548035834075304, 0.03182141661356774, 0.1559601278931544, 0.06893212839051754]\n",
            "Best loss:  12.595853167588901 with chromosome:  [2.9548035834075304, 0.03182141661356774, 0.1559601278931544, 0.06893212839051754]\n",
            "Best loss:  12.595853167588901 with chromosome:  [2.9548035834075304, 0.03182141661356774, 0.1559601278931544, 0.06893212839051754]\n",
            "Best loss:  9.494641893346945 with chromosome:  [4.653021202299131, 0.03182141661356774, 0.1559601278931544, 0.06893212839051754]\n",
            "Best loss:  9.494641893346945 with chromosome:  [4.653021202299131, 0.03182141661356774, 0.1559601278931544, 0.06893212839051754]\n",
            "Best loss:  9.494641893346945 with chromosome:  [4.653021202299131, 0.03182141661356774, 0.1559601278931544, 0.06893212839051754]\n",
            "Best loss:  9.494641893346945 with chromosome:  [4.653021202299131, 0.03182141661356774, 0.1559601278931544, 0.06893212839051754]\n",
            "Best loss:  9.494641893346945 with chromosome:  [4.653021202299131, 0.03182141661356774, 0.1559601278931544, 0.06893212839051754]\n",
            "Best loss:  9.494641893346945 with chromosome:  [4.653021202299131, 0.03182141661356774, 0.1559601278931544, 0.06893212839051754]\n",
            "Best loss:  9.494641893346945 with chromosome:  [4.653021202299131, 0.03182141661356774, 0.1559601278931544, 0.06893212839051754]\n",
            "Best loss:  9.494641893346945 with chromosome:  [4.653021202299131, 0.03182141661356774, 0.1559601278931544, 0.06893212839051754]\n",
            "Best loss:  7.530284120989218 with chromosome:  [-0.3408068159701838, 0.059291466846416174, 0.1559601278931544, 0.06893212839051754]\n",
            "Best loss:  7.530284120989218 with chromosome:  [-0.3408068159701838, 0.059291466846416174, 0.1559601278931544, 0.06893212839051754]\n",
            "Best loss:  7.530284120989218 with chromosome:  [-0.3408068159701838, 0.059291466846416174, 0.1559601278931544, 0.06893212839051754]\n",
            "Best loss:  7.530284120989218 with chromosome:  [-0.3408068159701838, 0.059291466846416174, 0.1559601278931544, 0.06893212839051754]\n",
            "Best loss:  6.736601961407859 with chromosome:  [0.1840391065420599, 0.059291466846416174, 0.1559601278931544, 0.06893212839051754]\n",
            "Best loss:  6.736601961407859 with chromosome:  [0.1840391065420599, 0.059291466846416174, 0.1559601278931544, 0.06893212839051754]\n",
            "Best loss:  6.736601961407859 with chromosome:  [0.1840391065420599, 0.059291466846416174, 0.1559601278931544, 0.06893212839051754]\n",
            "Best loss:  6.736601961407859 with chromosome:  [0.1840391065420599, 0.059291466846416174, 0.1559601278931544, 0.06893212839051754]\n",
            "Best loss:  6.417126023797392 with chromosome:  [0.1840391065420599, 0.059291466846416174, 0.1559601278931544, 0.045274207433233515]\n",
            "Best loss:  6.417126023797392 with chromosome:  [0.1840391065420599, 0.059291466846416174, 0.1559601278931544, 0.045274207433233515]\n",
            "Best loss:  6.417126023797392 with chromosome:  [0.1840391065420599, 0.059291466846416174, 0.1559601278931544, 0.045274207433233515]\n",
            "Best loss:  4.940678686335585 with chromosome:  [1.3414097812664594, 0.059291466846416174, 0.1559601278931544, 0.045274207433233515]\n",
            "Best loss:  4.940678686335585 with chromosome:  [1.3414097812664594, 0.059291466846416174, 0.1559601278931544, 0.045274207433233515]\n",
            "Best loss:  4.940678686335585 with chromosome:  [1.3414097812664594, 0.059291466846416174, 0.1559601278931544, 0.045274207433233515]\n",
            "Best loss:  4.940678686335585 with chromosome:  [1.3414097812664594, 0.059291466846416174, 0.1559601278931544, 0.045274207433233515]\n",
            "Best loss:  4.940678686335585 with chromosome:  [1.3414097812664594, 0.059291466846416174, 0.1559601278931544, 0.045274207433233515]\n",
            "Best loss:  4.940678686335585 with chromosome:  [1.3414097812664594, 0.059291466846416174, 0.1559601278931544, 0.045274207433233515]\n",
            "Best loss:  4.940678686335585 with chromosome:  [1.3414097812664594, 0.059291466846416174, 0.1559601278931544, 0.045274207433233515]\n",
            "Best loss:  4.940678686335585 with chromosome:  [1.3414097812664594, 0.059291466846416174, 0.1559601278931544, 0.045274207433233515]\n",
            "Best loss:  4.940678686335585 with chromosome:  [1.3414097812664594, 0.059291466846416174, 0.1559601278931544, 0.045274207433233515]\n",
            "Best loss:  4.940678686335585 with chromosome:  [1.3414097812664594, 0.059291466846416174, 0.1559601278931544, 0.045274207433233515]\n",
            "Best loss:  4.940678686335585 with chromosome:  [1.3414097812664594, 0.059291466846416174, 0.1559601278931544, 0.045274207433233515]\n",
            "Best loss:  4.940678686335585 with chromosome:  [1.3414097812664594, 0.059291466846416174, 0.1559601278931544, 0.045274207433233515]\n",
            "Best loss:  4.940678686335585 with chromosome:  [1.3414097812664594, 0.059291466846416174, 0.1559601278931544, 0.045274207433233515]\n",
            "Best loss:  4.940678686335585 with chromosome:  [1.3414097812664594, 0.059291466846416174, 0.1559601278931544, 0.045274207433233515]\n",
            "Best loss:  4.868868389716954 with chromosome:  [1.3414097812664594, 0.059291466846416174, 0.1559601278931544, 0.010471673339002008]\n",
            "Best loss:  4.652072101088286 with chromosome:  [1.3414097812664594, 0.059291466846416174, 0.13610735078319558, 0.045274207433233515]\n",
            "Best loss:  4.481365224855006 with chromosome:  [1.3414097812664594, 0.059291466846416174, 0.1559601278931544, 0.028584027307929638]\n",
            "Best loss:  4.481365224855006 with chromosome:  [1.3414097812664594, 0.059291466846416174, 0.1559601278931544, 0.028584027307929638]\n",
            "Best loss:  4.434195391803974 with chromosome:  [3.372425836705962, 0.059291466846416174, 0.1559601278931544, 0.010471673339002008]\n",
            "Best loss:  3.829901727475832 with chromosome:  [1.9937380221100387, 0.059291466846416174, 0.1559601278931544, 0.010471673339002008]\n",
            "Best loss:  3.829901727475832 with chromosome:  [1.9937380221100387, 0.059291466846416174, 0.1559601278931544, 0.010471673339002008]\n",
            "Best loss:  3.829901727475832 with chromosome:  [1.9937380221100387, 0.059291466846416174, 0.1559601278931544, 0.010471673339002008]\n",
            "Best loss:  3.7037425431582824 with chromosome:  [2.1558387834578197, 0.059291466846416174, 0.1559601278931544, 0.010471673339002008]\n",
            "Best loss:  3.7037425431582824 with chromosome:  [2.1558387834578197, 0.059291466846416174, 0.1559601278931544, 0.010471673339002008]\n",
            "Best loss:  3.682842988661764 with chromosome:  [2.735990022974535, 0.059291466846416174, 0.1559601278931544, 0.010471673339002008]\n",
            "Best loss:  3.016344444128255 with chromosome:  [3.5187405088328374, 0.059291466846416174, 0.11737757773281232, 0.010471673339002008]\n",
            "Best loss:  3.016344444128255 with chromosome:  [3.5187405088328374, 0.059291466846416174, 0.11737757773281232, 0.010471673339002008]\n",
            "Best loss:  3.016344444128255 with chromosome:  [3.5187405088328374, 0.059291466846416174, 0.11737757773281232, 0.010471673339002008]\n",
            "Best loss:  3.016344444128255 with chromosome:  [3.5187405088328374, 0.059291466846416174, 0.11737757773281232, 0.010471673339002008]\n",
            "Best loss:  3.016344444128255 with chromosome:  [3.5187405088328374, 0.059291466846416174, 0.11737757773281232, 0.010471673339002008]\n",
            "Best loss:  3.016344444128255 with chromosome:  [3.5187405088328374, 0.059291466846416174, 0.11737757773281232, 0.010471673339002008]\n"
          ]
        },
        {
          "output_type": "display_data",
          "data": {
            "text/plain": [
              "<Figure size 640x480 with 1 Axes>"
            ],
            "image/png": "[encoded data removed]"
          },
          "metadata": {}
        }
      ]
    },
    {
      "cell_type": "markdown",
      "source": [
        "## Assigment 11"
      ],
      "metadata": {
        "id": "_rRNClgfd2Dm"
      }
    },
    {
      "cell_type": "code",
      "source": [
        "features_X, sales_Y = load_data_from_file()\n",
        "population = initialize_population(m=100)"
      ],
      "metadata": {
        "id": "HEuwohQvfzQN"
      },
      "execution_count": 190,
      "outputs": []
    },
    {
      "cell_type": "code",
      "source": [
        "def visualize_predict_gt(features_x, sales_y, population):\n",
        "    # visualization of ground truth and predict value\n",
        "    sorted_population = sorted(population, key=lambda individual: compute_fitness(features_x, sales_y, individual))\n",
        "    print(sorted_population[-1])\n",
        "    theta = np.array(sorted_population[-1])\n",
        "\n",
        "    estimated_prices = []\n",
        "    for feature in features_X:\n",
        "        estimated_price = sum(c*x for x, c in zip(feature, theta))\n",
        "        estimated_prices.append(estimated_price)\n",
        "\n",
        "    fig, ax = plt.subplots(figsize=(10, 6))\n",
        "    plt.xlabel('Samples')\n",
        "    plt.ylabel('Price')\n",
        "    plt.plot(sales_Y, c='green', label='Real Prices')\n",
        "    plt.plot(estimated_prices, c='blue', label='Estimated Prices')\n",
        "    plt.legend()\n",
        "    plt.show()"
      ],
      "metadata": {
        "id": "IIHd1AXjeBWL"
      },
      "execution_count": 191,
      "outputs": []
    },
    {
      "cell_type": "code",
      "source": [
        "visualize_predict_gt(features_X, sales_Y, population)"
      ],
      "metadata": {
        "colab": {
          "base_uri": "https://localhost:8080/",
          "height": 559
        },
        "id": "COj0QGWagGyf",
        "outputId": "c1ce6b16-2f53-44a1-ba2c-deb9fa9b5bd8"
      },
      "execution_count": 195,
      "outputs": [
        {
          "output_type": "stream",
          "name": "stdout",
          "text": [
            "[-3.3023131574246123, 0.07479872801758658, 4.031125913395858, -1.9529286863644713]\n"
          ]
        },
        {
          "output_type": "display_data",
          "data": {
            "text/plain": [
              "<Figure size 1000x600 with 1 Axes>"
            ],
            "image/png": "[encoded data removed]"
          },
          "metadata": {}
        }
      ]
    }
  ]
}
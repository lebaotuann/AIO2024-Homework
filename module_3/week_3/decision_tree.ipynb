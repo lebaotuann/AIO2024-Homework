{
  "nbformat": 4,
  "nbformat_minor": 0,
  "metadata": {
    "colab": {
      "provenance": [],
      "gpuType": "L4"
    },
    "kernelspec": {
      "name": "python3",
      "display_name": "Python 3"
    },
    "language_info": {
      "name": "python"
    },
    "accelerator": "GPU"
  },
  "cells": [
    {
      "cell_type": "markdown",
      "source": [
        "# **Decision Tree**"
      ],
      "metadata": {
        "id": "Et97KeqdzJEo"
      }
    },
    {
      "cell_type": "markdown",
      "source": [
        "**Decision Trees (DTs)** are a non-parametric supervised learning method used for classification and regression. (Source: https://scikit-learn.org/stable/modules/tree.html#)"
      ],
      "metadata": {
        "id": "K4sQSE-C1XEn"
      }
    },
    {
      "cell_type": "markdown",
      "source": [
        "## **Decision Tree for Classification**"
      ],
      "metadata": {
        "id": "KKMsYV022CWl"
      }
    },
    {
      "cell_type": "markdown",
      "source": [
        "**Question 1 A**\n",
        "\n",
        "---\n",
        "\n",
        "D is divided into 2 classes.\n",
        "\n",
        "The number of samples in two classes is equal.\n",
        "\n",
        "This means that probability $p_1 = p_2 = 0.5$\n",
        "\n",
        "Entropy:\n",
        "\n",
        "$$Entropy = -(0.5 \\log_2(0.5)) -(0.5 \\log_2(0.5)) = 1$$\n",
        "\n"
      ],
      "metadata": {
        "id": "_TlNWiJK2d2s"
      }
    },
    {
      "cell_type": "markdown",
      "source": [
        "**Question 2 C**\n",
        "\n",
        "---\n",
        "D = \"Raise Salary\"\n",
        "\n",
        "Probability of class 0: $p_0 = \\frac{3}{5} = 0.6$\n",
        "\n",
        "Probability of class 1: $p_1 = \\frac{2}{5} = 0.4$\n",
        "\n",
        "$Gini(D) = 1 - (p_0^2 + p_1^2) = 1 - (0.6^2 + 0.4^2) = 1 - 0.52 = 0.48$"
      ],
      "metadata": {
        "id": "onbnYftU2lat"
      }
    },
    {
      "cell_type": "markdown",
      "source": [
        "**Question 3 D**\n",
        "\n",
        "---\n",
        "D = \"Likes English\"\n",
        "\n",
        "**Likes English = 0**: has three samples.\n",
        "*   The number of samples with **Raise Salary = 0**: 2\n",
        "*   The number of samples with **Raise Salary = 1**: 1\n",
        "*   Probability $p_0 = \\frac{2}{3}$, $p_1 = \\frac{1}{3}$\n",
        "\n",
        "**Likes English = 1**: has two samples.\n",
        "*   The number of samples with **Raise Salary = 0**: 1\n",
        "*   The number of samples with **Raise Salary = 1**: 1\n",
        "*   Probability $p_0 = \\frac{1}{2}$, $p_1 = \\frac{1}{2}$\n",
        "\n",
        "$Gini(Likes English = 0) = 1 - ((\\frac{2}{3})^2 + (\\frac{1}{3})^2) = \\frac{4}{9} \\approx 0.44$\n",
        "\n",
        "$Gini(Likes English = 1) = 1 - ((\\frac{1}{2})^2 + (\\frac{1}{2})^2) = 0.5$\n",
        "\n",
        "$Gini(Likes English) = \\frac{3}{5} \\times \\frac{4}{9} + \\frac{2}{5} \\times 0.5 \\approx 0.47$"
      ],
      "metadata": {
        "id": "OL636D0L2nlq"
      }
    },
    {
      "cell_type": "markdown",
      "source": [
        "**Question 4 C**\n",
        "\n",
        "---\n",
        "D = \"Age <= 26\"\n",
        "\n",
        "**Age <= 26**: consists of two samples.\n",
        "*   The number of samples with **Raise Salary = 0**: 2\n",
        "*   The number of samples with **Raise Salary = 1**: 0\n",
        "*   Probability $p_0 = 1$, $p_1 = 0$\n",
        "\n",
        "\n",
        "**Age > 26**: consists of three samples.\n",
        "*   The number of samples with **Raise Salary = 0**: 1\n",
        "*   The number of samples with **Raise Salary = 1**: 2\n",
        "*   Probability $p_0 = \\frac{1}{3}$, $p_1 = \\frac{2}{3}$\n",
        "\n",
        "Class 1: $Gini(Age <= 26) = 1 - (1^2 + 0^2) = 0$\n",
        "\n",
        "Class 2: $Gini(Age > 26) = 1 - ((\\frac{1}{3})^2 + (\\frac{2}{3})^2) = \\frac{4}{9} \\approx 0.444$\n",
        "\n",
        "Synthesis: $Gini(Age <= 26) = \\frac{2}{5} \\times 0 + \\frac{3}{5} \\times \\frac{4}{9} \\approx 0.27$\n",
        "\n"
      ],
      "metadata": {
        "id": "ivJzqOE7IunJ"
      }
    },
    {
      "cell_type": "markdown",
      "source": [
        "**Question 5 B**\n",
        "\n",
        "---\n",
        "D = \"Raise Salary\"\n",
        "\n",
        "The number of samples with **Raise Salary = 0**: 3\n",
        "\n",
        "The number of samples with **Raise Salary = 1**: 2\n",
        "\n",
        "Probability $p_0 = \\frac{3}{5}$, $p_1 = \\frac{2}{5}$\n",
        "\n",
        "$Entropy(Raise\\ Salary) = -(\\frac{3}{5} \\log_2 \\frac{3}{5}) -(\\frac{2}{5} \\log_2 \\frac{2}{5}) \\approx 0.971$\n"
      ],
      "metadata": {
        "id": "3kUFDaikPYY9"
      }
    },
    {
      "cell_type": "markdown",
      "source": [
        "**Question 6 A**\n",
        "\n",
        "---\n",
        "D = \"Likes English\"\n",
        "\n",
        "**Likes English = 0**: consists of three samples.\n",
        "*   The number of samples with **Raise Salary = 0**: 2\n",
        "*   The number of samples with **Raise Salary = 1**: 1\n",
        "*   Probability $p_0 = \\frac{2}{3}$, $p_1 = \\frac{1}{3}$\n",
        "*   $Entropy(D_1) = -(\\frac{2}{3}\\log_2\\frac{2}{3}) - (\\frac{1}{3}\\log_2\\frac{1}{3}) \\approx 0.918$\n",
        "\n",
        "**Likes English = 1**: consists of two samples.\n",
        "*   The number of samples with **Raise Salary = 0**: 1\n",
        "*   The number of samples with **Raise Salary = 1**: 1\n",
        "*   Probability $p_0 = \\frac{1}{2}$, $p_1 = \\frac{1}{2}$\n",
        "*   $Entropy(D_2) = -(\\frac{1}{2}\\log_2\\frac{1}{2}) - (\\frac{1}{2}\\log_2\\frac{1}{2}) = 1$\n",
        "\n",
        "$Entropy(D) = \\frac{3}{5} \\times 0.918 + \\frac{2}{5} \\times 1 \\approx 0.9508$\n",
        "\n",
        "$Gain(Likes\\ English) = 1 - Entropy(Likes\\ English) = 0.0492$\n"
      ],
      "metadata": {
        "id": "2RtGLR7ZUvLe"
      }
    },
    {
      "cell_type": "markdown",
      "source": [
        "**Question 7 A**"
      ],
      "metadata": {
        "id": "o9wAG0Jbc9xr"
      }
    },
    {
      "cell_type": "markdown",
      "source": [
        "**Question 8 A**"
      ],
      "metadata": {
        "id": "Dtw7qVledqD4"
      }
    },
    {
      "cell_type": "code",
      "source": [
        "from sklearn import datasets\n",
        "from sklearn.model_selection import train_test_split\n",
        "from sklearn.metrics import accuracy_score\n",
        "from sklearn.tree import DecisionTreeClassifier\n",
        "\n",
        "# Paragraph C :\n",
        "# Load the diabetes dataset\n",
        "iris_X, iris_y = datasets.load_iris(return_X_y=True)\n",
        "# Split train : test = 8:2\n",
        "X_train , X_test , y_train , y_test = train_test_split (\n",
        "    iris_X,\n",
        "    iris_y,\n",
        "    test_size =0.2,\n",
        "    random_state =42,\n",
        ")\n",
        "\n",
        "# Paragraph B :\n",
        "# Define model\n",
        "dt_classifier = DecisionTreeClassifier()\n",
        "\n",
        "#Paragraph A :\n",
        "# Train\n",
        "dt_classifier.fit(X_train, y_train)\n",
        "\n",
        "# Paragraph D :\n",
        "# Preidct and evaluate\n",
        "y_pred = dt_classifier.predict(X_test)\n",
        "accuracy_score(y_test, y_pred)"
      ],
      "metadata": {
        "id": "PowobL5Gd2jy",
        "colab": {
          "base_uri": "https://localhost:8080/"
        },
        "outputId": "70bcb96e-9bef-4d6b-cea2-a7dc61e93f59"
      },
      "execution_count": 1,
      "outputs": [
        {
          "output_type": "execute_result",
          "data": {
            "text/plain": [
              "1.0"
            ]
          },
          "metadata": {},
          "execution_count": 1
        }
      ]
    },
    {
      "cell_type": "markdown",
      "source": [
        "## **Decision Tree for Regression**"
      ],
      "metadata": {
        "id": "N-j6F7SJ2GGB"
      }
    },
    {
      "cell_type": "markdown",
      "source": [
        "**Question 9 A**\n",
        "\n",
        "---\n",
        "D = \"Likes AI\"\n",
        "\n",
        "Likes AI = 0: consists of three samples.\n",
        "*   Salary is 200, 300, and 400\n",
        "*   $Mean_0 = \\frac{200 + 300 + 400}{3} = 300$\n",
        "*   $SSE(D_0) = \\frac{(200 - 300)^2 + (300 - 300)^2 + (400 - 300)^2}{4} = 6667$\n",
        "\n",
        "Likes AI = 1: consists of two samples.\n",
        "*   Salary is 400 and 900\n",
        "*   $Mean_0 = \\frac{400 + 500}{2} = 450$\n",
        "*   $SSE(D_1) = \\frac{(400 - 450)^2 + (500 - 450)^2}{2} = 2500$\n",
        "\n",
        "$SSE(D) = SSE(D_0) + SSE(D_1)= 9167$"
      ],
      "metadata": {
        "id": "oYLbh90ue3S3"
      }
    },
    {
      "cell_type": "markdown",
      "source": [
        "**Question 10 C**\n",
        "\n",
        "---\n",
        "$D_1$: Age <= 24\n",
        "*   $Mean_{D_1} = \\frac{200}{1} = 200$\n",
        "*   $SSE_{D_1} = \\frac{(200 - 200)^2}{2} = 0$\n",
        "\n",
        "$D_2$: Age > 24\n",
        "*   $Mean_{D_1} = \\frac{400 + 300 + 500 + 400}{4} = 400$\n",
        "*   $SSE_{D_1} = \\frac{(400 - 400)^2 + (300 - 400)^2 + (500 - 400)^2 + (400 - 400)^2}{4} = 5000$\n",
        "\n",
        "$SSE(Age <= 24) = SSE(D_1) + SSE(D_2)= 5000$"
      ],
      "metadata": {
        "id": "B5x3Ilodkmwj"
      }
    },
    {
      "cell_type": "markdown",
      "source": [
        "**Question 11 A**"
      ],
      "metadata": {
        "id": "2dFOcv7rncZe"
      }
    },
    {
      "cell_type": "code",
      "source": [
        "from sklearn.datasets import fetch_openml\n",
        "from sklearn.model_selection import train_test_split\n",
        "from sklearn.metrics import mean_squared_error\n",
        "from sklearn.tree import DecisionTreeRegressor\n",
        "\n",
        "# Paragraph C :\n",
        "# Load dataset\n",
        "machine_cpu = fetch_openml(name=\"machine_cpu\")\n",
        "machine_data = machine_cpu.data\n",
        "machine_labels = machine_cpu.target\n",
        "# Split train : test = 8:2\n",
        "X_train , X_test , y_train , y_test = train_test_split(\n",
        "    machine_data,\n",
        "    machine_labels,\n",
        "    test_size=0.2,\n",
        "    random_state=42\n",
        ")\n",
        "\n",
        "# Paragraph B :\n",
        "# Define model\n",
        "tree_reg = DecisionTreeRegressor()\n",
        "\n",
        "# Paragraph A :\n",
        "# Train\n",
        "tree_reg.fit(X_train, y_train)\n",
        "\n",
        "# Paragraph D :\n",
        "# Preidct and evaluate\n",
        "y_pred = tree_reg.predict(X_test)\n",
        "mean_squared_error(y_test, y_pred)"
      ],
      "metadata": {
        "id": "agpGf89K2Lau",
        "colab": {
          "base_uri": "https://localhost:8080/"
        },
        "outputId": "672c36b8-5175-4b3f-9bfe-68e7a41dcb22"
      },
      "execution_count": 2,
      "outputs": [
        {
          "output_type": "stream",
          "name": "stderr",
          "text": [
            "/usr/local/lib/python3.10/dist-packages/sklearn/datasets/_openml.py:311: UserWarning: Multiple active versions of the dataset matching the name machine_cpu exist. Versions may be fundamentally different, returning version 1.\n",
            "  warn(\n",
            "/usr/local/lib/python3.10/dist-packages/sklearn/datasets/_openml.py:1022: FutureWarning: The default value of `parser` will change from `'liac-arff'` to `'auto'` in 1.4. You can set `parser='auto'` to silence this warning. Therefore, an `ImportError` will be raised from 1.4 if the dataset is dense and pandas is not installed. Note that the pandas parser may return different data types. See the Notes Section in fetch_openml's API doc for details.\n",
            "  warn(\n"
          ]
        },
        {
          "output_type": "execute_result",
          "data": {
            "text/plain": [
              "9180.199074074075"
            ]
          },
          "metadata": {},
          "execution_count": 2
        }
      ]
    }
  ]
}